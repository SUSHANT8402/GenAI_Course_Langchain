{
 "cells": [
  {
   "cell_type": "markdown",
   "id": "7605abb6",
   "metadata": {},
   "source": [
    "### Word2Vec PRACTICAL IMPLEMENTATION"
   ]
  },
  {
   "cell_type": "code",
   "execution_count": 1,
   "id": "a07d5963",
   "metadata": {},
   "outputs": [
    {
     "name": "stdout",
     "output_type": "stream",
     "text": [
      "Requirement already satisfied: gensim in c:\\users\\susha\\desktop\\udemy\\complete_genai_course\\genai_course_langchain\\venv\\lib\\site-packages (4.3.3)\n",
      "Requirement already satisfied: numpy<2.0,>=1.18.5 in c:\\users\\susha\\desktop\\udemy\\complete_genai_course\\genai_course_langchain\\venv\\lib\\site-packages (from gensim) (1.26.4)\n",
      "Requirement already satisfied: scipy<1.14.0,>=1.7.0 in c:\\users\\susha\\desktop\\udemy\\complete_genai_course\\genai_course_langchain\\venv\\lib\\site-packages (from gensim) (1.13.1)\n",
      "Requirement already satisfied: smart-open>=1.8.1 in c:\\users\\susha\\desktop\\udemy\\complete_genai_course\\genai_course_langchain\\venv\\lib\\site-packages (from gensim) (7.1.0)\n",
      "Requirement already satisfied: wrapt in c:\\users\\susha\\desktop\\udemy\\complete_genai_course\\genai_course_langchain\\venv\\lib\\site-packages (from smart-open>=1.8.1->gensim) (1.17.2)\n",
      "Note: you may need to restart the kernel to use updated packages.\n"
     ]
    },
    {
     "name": "stderr",
     "output_type": "stream",
     "text": [
      "\n",
      "[notice] A new release of pip available: 22.3 -> 25.1.1\n",
      "[notice] To update, run: python.exe -m pip install --upgrade pip\n"
     ]
    }
   ],
   "source": [
    "pip install gensim"
   ]
  },
  {
   "cell_type": "markdown",
   "id": "a25c7b56",
   "metadata": {},
   "source": [
    "#### GOOGLE PRETRAINED MODEL"
   ]
  },
  {
   "cell_type": "code",
   "execution_count": 2,
   "id": "af9fcb9d",
   "metadata": {},
   "outputs": [],
   "source": [
    "import gensim\n",
    "from gensim.models import Word2Vec,KeyedVectors"
   ]
  },
  {
   "cell_type": "code",
   "execution_count": 3,
   "id": "0dad67cb",
   "metadata": {},
   "outputs": [
    {
     "name": "stdout",
     "output_type": "stream",
     "text": [
      "[==================================================] 100.0% 1662.8/1662.8MB downloaded\n"
     ]
    }
   ],
   "source": [
    "import gensim.downloader as api\n",
    "\n",
    "wv= api.load('word2vec-google-news-300')\n",
    "vec_king=wv['king']"
   ]
  },
  {
   "cell_type": "code",
   "execution_count": 5,
   "id": "9ecbd126",
   "metadata": {},
   "outputs": [
    {
     "data": {
      "text/plain": [
       "(300,)"
      ]
     },
     "execution_count": 5,
     "metadata": {},
     "output_type": "execute_result"
    }
   ],
   "source": [
    "vec_king.shape"
   ]
  },
  {
   "cell_type": "code",
   "execution_count": 6,
   "id": "44c38cd6",
   "metadata": {},
   "outputs": [
    {
     "data": {
      "text/plain": [
       "[('cricketing', 0.8372227549552917),\n",
       " ('cricketers', 0.8165745735168457),\n",
       " ('Test_cricket', 0.8094819188117981),\n",
       " ('Twenty##_cricket', 0.8068487048149109),\n",
       " ('Twenty##', 0.762426495552063),\n",
       " ('Cricket', 0.7541398406028748),\n",
       " ('cricketer', 0.7372578382492065),\n",
       " ('twenty##', 0.7316358685493469),\n",
       " ('T##_cricket', 0.7304614186286926),\n",
       " ('West_Indies_cricket', 0.698798656463623)]"
      ]
     },
     "execution_count": 6,
     "metadata": {},
     "output_type": "execute_result"
    }
   ],
   "source": [
    "wv.most_similar('cricket')"
   ]
  },
  {
   "cell_type": "code",
   "execution_count": 8,
   "id": "db054a00",
   "metadata": {},
   "outputs": [
    {
     "data": {
      "text/plain": [
       "0.5354152"
      ]
     },
     "execution_count": 8,
     "metadata": {},
     "output_type": "execute_result"
    }
   ],
   "source": [
    "wv.similarity('sports','hockey')"
   ]
  },
  {
   "cell_type": "code",
   "execution_count": 9,
   "id": "6443ef15",
   "metadata": {},
   "outputs": [
    {
     "data": {
      "text/plain": [
       "array([ 5.41992188e-02,  1.01562500e-01,  4.68139648e-02,  4.21386719e-01,\n",
       "        2.95654297e-01, -1.23046875e-01,  4.29687500e-02, -3.93554688e-01,\n",
       "       -9.47265625e-02,  4.35791016e-01, -2.82226562e-01, -5.18798828e-01,\n",
       "       -2.34375000e-01,  1.33544922e-01, -5.52978516e-02, -1.20239258e-02,\n",
       "       -3.61328125e-02,  4.33044434e-02,  8.81652832e-02,  3.99414062e-01,\n",
       "       -3.48205566e-02,  3.76708984e-01,  1.84082031e-01, -3.02734375e-02,\n",
       "        1.85058594e-01, -1.88476562e-01, -8.30078125e-02, -1.79443359e-01,\n",
       "       -2.37304688e-01, -2.17468262e-01, -2.05581665e-01,  3.68408203e-01,\n",
       "       -6.95800781e-02,  3.78906250e-01, -1.72363281e-01,  3.14941406e-01,\n",
       "       -1.35253906e-01, -2.24609375e-01, -6.20117188e-02,  1.19140625e-01,\n",
       "       -4.83398438e-02, -2.79296875e-01,  4.02832031e-01, -1.65527344e-01,\n",
       "        2.67700195e-01, -2.39257812e-02, -2.52441406e-01, -3.19824219e-02,\n",
       "        1.86523438e-01,  6.75659180e-02,  2.85156250e-01,  1.36718750e-01,\n",
       "       -8.67233276e-02,  1.03637695e-01, -3.22021484e-01, -3.03451538e-01,\n",
       "       -2.56347656e-01, -1.58853531e-01, -8.97216797e-02, -1.02355957e-01,\n",
       "        1.51367188e-01,  2.81982422e-01, -2.62451172e-02,  1.66381836e-01,\n",
       "        2.35469818e-01, -6.83593750e-02, -1.68212891e-01, -1.66015625e-02,\n",
       "        5.37109375e-03,  2.00683594e-01,  5.88073730e-02,  7.86132812e-02,\n",
       "       -5.76171875e-02, -4.68750000e-02, -6.14013672e-02, -2.82714844e-01,\n",
       "       -2.92968750e-02,  2.26318359e-01, -7.42187500e-02, -9.76562500e-03,\n",
       "        4.15039062e-02,  2.04101562e-01, -1.40380859e-01, -1.21948242e-01,\n",
       "        1.55273438e-01, -2.07519531e-03, -1.94824219e-01, -1.06811523e-01,\n",
       "        2.61047363e-01,  1.22512817e-01,  2.89062500e-01, -4.01367188e-01,\n",
       "       -1.13281250e-01, -3.58642578e-01,  5.02929688e-02,  4.73632812e-02,\n",
       "        1.84570312e-01, -3.15673828e-01,  3.95996094e-01, -1.11816406e-01,\n",
       "        1.26464844e-01,  1.32812500e-01,  1.10839844e-01, -1.65527344e-01,\n",
       "       -3.59375000e-01,  3.82812500e-01, -6.13891602e-01,  1.34643555e-01,\n",
       "        8.20312500e-02, -2.97241211e-02,  4.68841553e-01,  4.67773438e-01,\n",
       "       -1.32566452e-01, -1.67968750e-01,  2.97119141e-01, -1.60644531e-01,\n",
       "        2.55264282e-01, -2.24609375e-02, -1.26953125e-02,  1.57714844e-01,\n",
       "        1.18164062e-01,  2.08251953e-01, -1.34765625e-01, -1.60644531e-01,\n",
       "       -1.29943848e-01, -2.99987793e-01, -4.10156250e-02,  1.24511719e-01,\n",
       "       -2.68554688e-02, -1.66015625e-02,  7.08007812e-02,  9.17968750e-02,\n",
       "        1.61132812e-01,  1.94335938e-01,  2.19726562e-01,  2.10205078e-01,\n",
       "       -2.92968750e-03,  8.15429688e-02,  1.45507812e-01, -2.33398438e-01,\n",
       "        1.73828125e-01, -4.11621094e-01,  6.44531250e-01, -9.63134766e-02,\n",
       "        1.46484375e-01, -1.80664062e-01, -5.27343750e-02, -2.22656250e-01,\n",
       "       -2.56103516e-01,  4.18701172e-01,  5.37109375e-03,  4.99267578e-02,\n",
       "       -1.13525391e-01, -4.20898438e-01, -1.64794922e-01,  1.05224609e-01,\n",
       "       -3.75976562e-02,  1.71386719e-01,  5.17578125e-02,  7.17773438e-02,\n",
       "       -8.74023438e-02, -2.72827148e-02,  3.33984375e-01, -6.15234375e-02,\n",
       "       -1.11083984e-02, -3.86718750e-01,  1.19934082e-01, -4.72412109e-02,\n",
       "        7.66906738e-02, -4.10156250e-02,  2.85644531e-02,  2.35595703e-01,\n",
       "        1.27685547e-01, -9.76562500e-02,  2.68066406e-01, -8.83789062e-02,\n",
       "        1.79687500e-01, -4.47998047e-02,  2.62329102e-01, -8.81347656e-02,\n",
       "       -4.10400391e-01, -1.07421875e-02, -3.66561890e-01, -1.92871094e-01,\n",
       "       -5.66711426e-02,  1.19445801e-01,  3.79394531e-01,  9.22851562e-02,\n",
       "       -4.32128906e-02, -3.90625000e-03,  1.50878906e-01,  2.95410156e-01,\n",
       "        1.51367188e-01,  1.19201660e-01, -1.83227539e-01, -9.92431641e-02,\n",
       "       -4.09545898e-02, -7.32421875e-04,  3.90625000e-03, -5.05615234e-01,\n",
       "       -3.66699219e-01,  1.22070312e-03,  3.07983398e-01, -3.28125000e-01,\n",
       "        1.06933594e-01, -2.82226562e-01, -1.11816406e-01,  7.26318359e-02,\n",
       "       -6.42089844e-02,  2.37548828e-01,  9.22851562e-02,  4.59594727e-01,\n",
       "        1.39160156e-01, -2.16552734e-01, -1.56616211e-01,  1.72119141e-01,\n",
       "       -1.36436462e-01, -9.76562500e-04, -1.86279297e-01,  3.20434570e-02,\n",
       "       -4.88281250e-04, -1.81396484e-01,  3.03710938e-01, -2.29980469e-01,\n",
       "        1.63574219e-02, -1.98120117e-01, -1.35742188e-01, -2.77099609e-01,\n",
       "        6.86035156e-02,  3.30810547e-01, -2.38281250e-01,  2.10449219e-01,\n",
       "       -5.85937500e-01,  1.28112793e-01, -7.47070312e-02, -3.63769531e-02,\n",
       "        1.84814453e-01,  2.19375610e-01, -2.31933594e-02, -3.65112305e-01,\n",
       "        2.52929688e-01, -3.12988281e-01,  1.14799500e-01,  2.94433594e-01,\n",
       "        5.01953125e-01,  9.32617188e-02, -3.04565430e-01,  2.49023438e-02,\n",
       "        8.20312500e-02, -3.44726562e-01, -3.88183594e-02,  2.06054688e-01,\n",
       "        1.12304688e-02, -1.36718750e-02,  3.31909180e-01, -4.19921875e-02,\n",
       "       -3.26171875e-01, -4.59960938e-01,  1.55761719e-01, -2.00195312e-02,\n",
       "        1.13525391e-01,  2.08007812e-01,  3.90625000e-03, -1.26953125e-02,\n",
       "       -1.01562500e-01, -8.05664062e-03,  1.02294922e-01,  1.20117188e-01,\n",
       "        2.28027344e-01,  4.18945312e-01,  1.02539062e-02,  5.97290039e-01,\n",
       "       -9.03320312e-03,  2.50244141e-02, -2.92968750e-02, -2.35351562e-01,\n",
       "       -7.23876953e-02, -1.91406250e-01, -8.20312500e-02,  3.58024597e-01,\n",
       "        3.70910645e-01, -4.54589844e-01,  2.42187500e-01, -1.22070312e-02,\n",
       "       -2.24609375e-02,  1.12304688e-02, -3.49121094e-02,  5.98144531e-03,\n",
       "       -2.03857422e-02,  1.03637695e-01,  1.07574463e-01, -3.97949219e-01,\n",
       "       -3.03222656e-01, -4.57519531e-01,  5.61523438e-02, -2.82897949e-01,\n",
       "       -1.30126953e-01, -8.32519531e-02,  2.03918457e-01,  7.66601562e-02],\n",
       "      dtype=float32)"
      ]
     },
     "execution_count": 9,
     "metadata": {},
     "output_type": "execute_result"
    }
   ],
   "source": [
    "vec=wv['king']-wv['male']+wv['women']\n",
    "vec"
   ]
  },
  {
   "cell_type": "code",
   "execution_count": 11,
   "id": "dc6eb8ec",
   "metadata": {},
   "outputs": [
    {
     "data": {
      "text/plain": [
       "[('king', 0.6891313195228577),\n",
       " ('kings', 0.5164613127708435),\n",
       " ('queen', 0.5061996579170227),\n",
       " ('crown_prince', 0.459038108587265),\n",
       " ('monarch', 0.45044460892677307),\n",
       " ('sultan', 0.4227244257926941),\n",
       " ('princes', 0.4199029505252838),\n",
       " ('Prince_Paras', 0.4149433374404907),\n",
       " ('kumaris', 0.41345417499542236),\n",
       " ('prince', 0.4109545946121216)]"
      ]
     },
     "execution_count": 11,
     "metadata": {},
     "output_type": "execute_result"
    }
   ],
   "source": [
    "wv.most_similar([vec])"
   ]
  },
  {
   "cell_type": "code",
   "execution_count": null,
   "id": "ab6eb7a3",
   "metadata": {},
   "outputs": [],
   "source": []
  }
 ],
 "metadata": {
  "kernelspec": {
   "display_name": "venv",
   "language": "python",
   "name": "python3"
  },
  "language_info": {
   "codemirror_mode": {
    "name": "ipython",
    "version": 3
   },
   "file_extension": ".py",
   "mimetype": "text/x-python",
   "name": "python",
   "nbconvert_exporter": "python",
   "pygments_lexer": "ipython3",
   "version": "3.11.0"
  }
 },
 "nbformat": 4,
 "nbformat_minor": 5
}
