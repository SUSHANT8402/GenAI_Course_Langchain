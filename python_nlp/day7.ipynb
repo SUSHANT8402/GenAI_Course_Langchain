{
 "cells": [
  {
   "cell_type": "markdown",
   "id": "75fd791a",
   "metadata": {},
   "source": [
    "# Wordnet Lemmatizer\n",
    "\n",
    "Lemmatization technique is like stemming.The output will get after lemmatization is called 'lemma',which is a root word rather than a root stem,the output of stemming.After lemmatization we wll be getting a valid word that means the same thing.\n",
    "\n",
    "NLTK provides WordNetLemmatizer class which is a thin wrapper around the wordnet corpus.This class uses morphy()  function to The WordNet CorpusReader class to find a lemma.Let see with few examples"
   ]
  },
  {
   "cell_type": "code",
   "execution_count": 6,
   "id": "dfdf187a",
   "metadata": {},
   "outputs": [
    {
     "name": "stderr",
     "output_type": "stream",
     "text": [
      "[nltk_data] Downloading package wordnet to C:\\Users\\susha/nltk_data...\n"
     ]
    },
    {
     "data": {
      "text/plain": [
       "True"
      ]
     },
     "execution_count": 6,
     "metadata": {},
     "output_type": "execute_result"
    }
   ],
   "source": [
    "import nltk\n",
    "nltk.download('wordnet')\n"
   ]
  },
  {
   "cell_type": "code",
   "execution_count": 7,
   "id": "ef3feca2",
   "metadata": {},
   "outputs": [],
   "source": [
    "from nltk.stem import WordNetLemmatizer\n",
    "lemmatizer=WordNetLemmatizer()"
   ]
  },
  {
   "cell_type": "code",
   "execution_count": 10,
   "id": "e8bae087",
   "metadata": {},
   "outputs": [
    {
     "data": {
      "text/plain": [
       "'going'"
      ]
     },
     "execution_count": 10,
     "metadata": {},
     "output_type": "execute_result"
    }
   ],
   "source": [
    "lemmatizer.lemmatize(\"going\",pos='a')"
   ]
  },
  {
   "cell_type": "code",
   "execution_count": 13,
   "id": "4c36f1f2",
   "metadata": {},
   "outputs": [
    {
     "name": "stdout",
     "output_type": "stream",
     "text": [
      "for word write the lemmatizer results in write\n",
      "for word writes the lemmatizer results in write\n",
      "for word writing the lemmatizer results in write\n",
      "for word written the lemmatizer results in write\n",
      "for word wrote the lemmatizer results in write\n"
     ]
    }
   ],
   "source": [
    "words=[\"write\",\"writes\",\"writing\",\"written\",\"wrote\"]\n",
    "for word in words:\n",
    "    print(f\"for word {word} the lemmatizer results in {lemmatizer.lemmatize(word,pos='v')}\")"
   ]
  },
  {
   "cell_type": "code",
   "execution_count": null,
   "id": "7b78d14d",
   "metadata": {},
   "outputs": [],
   "source": []
  }
 ],
 "metadata": {
  "kernelspec": {
   "display_name": "venv",
   "language": "python",
   "name": "python3"
  },
  "language_info": {
   "codemirror_mode": {
    "name": "ipython",
    "version": 3
   },
   "file_extension": ".py",
   "mimetype": "text/x-python",
   "name": "python",
   "nbconvert_exporter": "python",
   "pygments_lexer": "ipython3",
   "version": "3.11.0"
  }
 },
 "nbformat": 4,
 "nbformat_minor": 5
}
