{
 "cells": [
  {
   "cell_type": "markdown",
   "id": "d5a1bff2",
   "metadata": {},
   "source": [
    "# Stemming"
   ]
  },
  {
   "cell_type": "code",
   "execution_count": 9,
   "id": "6d3677b5",
   "metadata": {},
   "outputs": [],
   "source": [
    "words=[\"write\",\"writes\",\"writing\",\"written\",\"wrote\"]"
   ]
  },
  {
   "cell_type": "markdown",
   "id": "18d292b0",
   "metadata": {},
   "source": [
    "### Porter Stemmer"
   ]
  },
  {
   "cell_type": "code",
   "execution_count": 10,
   "id": "1bd6d011",
   "metadata": {},
   "outputs": [
    {
     "name": "stdout",
     "output_type": "stream",
     "text": [
      "write--->write\n",
      "writes--->write\n",
      "writing--->write\n",
      "written--->written\n",
      "wrote--->wrote\n"
     ]
    }
   ],
   "source": [
    "from nltk.stem import PorterStemmer\n",
    "stemming=PorterStemmer()\n",
    "for word in words:\n",
    "    print(word+\"--->\"+stemming.stem(word))\n",
    "    "
   ]
  },
  {
   "cell_type": "code",
   "execution_count": 11,
   "id": "f0a8fd59",
   "metadata": {},
   "outputs": [
    {
     "data": {
      "text/plain": [
       "'congratul'"
      ]
     },
     "execution_count": 11,
     "metadata": {},
     "output_type": "execute_result"
    }
   ],
   "source": [
    "#disadvantage of stemming\n",
    "stemming.stem(\"congratulations\")"
   ]
  },
  {
   "cell_type": "markdown",
   "id": "dfea7db2",
   "metadata": {},
   "source": [
    "### REGEX STEMMER CLASS\n",
    "NLTK has RegexpStemmer class with the help of which we can easily implement regularexpression stemmer algorithms.It basically takes a single Regular expression and removes any prefix or suffix that matches the expression"
   ]
  },
  {
   "cell_type": "code",
   "execution_count": 12,
   "id": "54d842dd",
   "metadata": {},
   "outputs": [],
   "source": [
    "from nltk.stem import RegexpStemmer\n",
    "\n",
    "reg_stemmer=RegexpStemmer('ing$|s$|e$|able$', min=4)"
   ]
  },
  {
   "cell_type": "code",
   "execution_count": 13,
   "id": "9f758af7",
   "metadata": {},
   "outputs": [
    {
     "name": "stdout",
     "output_type": "stream",
     "text": [
      "writ\n",
      "write\n",
      "writ\n",
      "written\n",
      "wrot\n"
     ]
    }
   ],
   "source": [
    "for word in words:\n",
    "    print(reg_stemmer.stem(word))\n",
    "    "
   ]
  },
  {
   "cell_type": "markdown",
   "id": "25465ee2",
   "metadata": {},
   "source": [
    "### SNOWBALL STEMMER(BETTER than porter stemmer)\n",
    "\n"
   ]
  },
  {
   "cell_type": "code",
   "execution_count": 14,
   "id": "8d5fe08c",
   "metadata": {},
   "outputs": [],
   "source": [
    "from nltk.stem.snowball import SnowballStemmer\n",
    "snowball_stemmer=SnowballStemmer('english')"
   ]
  },
  {
   "cell_type": "code",
   "execution_count": 15,
   "id": "eab723b1",
   "metadata": {},
   "outputs": [
    {
     "name": "stdout",
     "output_type": "stream",
     "text": [
      "For word write snowball stemming is write\n",
      "For word writes snowball stemming is write\n",
      "For word writing snowball stemming is write\n",
      "For word written snowball stemming is written\n",
      "For word wrote snowball stemming is wrote\n"
     ]
    }
   ],
   "source": [
    "for word in words:\n",
    "    print(f\"For word {word} snowball stemming is {snowball_stemmer.stem(word)}\")"
   ]
  },
  {
   "cell_type": "code",
   "execution_count": null,
   "id": "7ca7e323",
   "metadata": {},
   "outputs": [],
   "source": []
  },
  {
   "cell_type": "code",
   "execution_count": null,
   "id": "3b05d00d",
   "metadata": {},
   "outputs": [],
   "source": []
  }
 ],
 "metadata": {
  "kernelspec": {
   "display_name": "venv",
   "language": "python",
   "name": "python3"
  },
  "language_info": {
   "codemirror_mode": {
    "name": "ipython",
    "version": 3
   },
   "file_extension": ".py",
   "mimetype": "text/x-python",
   "name": "python",
   "nbconvert_exporter": "python",
   "pygments_lexer": "ipython3",
   "version": "3.11.0"
  }
 },
 "nbformat": 4,
 "nbformat_minor": 5
}
