{
 "cells": [
  {
   "cell_type": "markdown",
   "id": "ff3bc1e1",
   "metadata": {},
   "source": [
    "### Introduction to Functions\n",
    "\n",
    "Defination:\n",
    "A function is a block of code that performs a specific task.Functions help in organizing code ,reusing code and imporving readability"
   ]
  },
  {
   "cell_type": "code",
   "execution_count": 1,
   "id": "40a82b91",
   "metadata": {},
   "outputs": [],
   "source": [
    "def function_name(parameters):\n",
    "    \"\"\"docstring\"\"\"\n",
    "    return expression\n"
   ]
  },
  {
   "cell_type": "code",
   "execution_count": 3,
   "id": "508b83bf",
   "metadata": {},
   "outputs": [
    {
     "name": "stdout",
     "output_type": "stream",
     "text": [
      " number 1 is odd \n",
      " number 2 is even \n",
      " number 3 is odd \n",
      " number 4 is even \n",
      " number 5 is odd \n",
      " number 6 is even \n",
      " number 7 is odd \n",
      " number 8 is even \n",
      " number 9 is odd \n",
      " number 10 is even \n"
     ]
    }
   ],
   "source": [
    "def even_or_odd(num):\n",
    "    if num%2==0:\n",
    "        result=\"even\"\n",
    "    else:\n",
    "        result=\"odd\"\n",
    "    return result\n",
    "\n",
    "nums=[1,2,3,4,5,6,7,8,9,10]\n",
    "for num in nums:\n",
    "    print(f\" number {num} is {even_or_odd(num)} \")\n",
    "    "
   ]
  },
  {
   "cell_type": "code",
   "execution_count": 4,
   "id": "1e25091c",
   "metadata": {},
   "outputs": [
    {
     "name": "stdout",
     "output_type": "stream",
     "text": [
      "1\n",
      "2\n",
      "3\n",
      "4\n",
      "5\n",
      "6\n",
      "78\n",
      "9\n"
     ]
    }
   ],
   "source": [
    "def print_numbers(*args):\n",
    "    for i in args:\n",
    "        print(i)\n",
    "print_numbers(1,2,3,4,5,6,78,9)"
   ]
  },
  {
   "cell_type": "code",
   "execution_count": 5,
   "id": "5a48bf8f",
   "metadata": {},
   "outputs": [
    {
     "name": "stdout",
     "output_type": "stream",
     "text": [
      "name Krish\n",
      "age 24\n"
     ]
    }
   ],
   "source": [
    "def print_number_index(**kwargs):\n",
    "    for key,value in kwargs.items():\n",
    "        print(key,value)\n",
    "print_number_index(name=\"Krish\",age=24)\n"
   ]
  },
  {
   "cell_type": "markdown",
   "id": "bbb08237",
   "metadata": {},
   "source": [
    "### EXAMPLE 1: Temperature Conversion\n"
   ]
  },
  {
   "cell_type": "code",
   "execution_count": 7,
   "id": "ee208250",
   "metadata": {},
   "outputs": [
    {
     "name": "stdout",
     "output_type": "stream",
     "text": [
      "89.6\n",
      "133.88888888888889\n"
     ]
    }
   ],
   "source": [
    "def convert_temperature(temp,unit):\n",
    "    \"\"\"this function converts temperature between celcius and farenhiet\"\"\"\n",
    "    if unit==\"C\":\n",
    "        return temp*9/5 + 32\n",
    "    elif unit==\"F\":\n",
    "        return (temp-32)*5/9\n",
    "    else:\n",
    "        return \"give correct temperature unit\"\n",
    "    \n",
    "print(convert_temperature(32,\"C\"))\n",
    "print(convert_temperature(273,\"F\"))\n",
    "    "
   ]
  },
  {
   "cell_type": "markdown",
   "id": "64d48519",
   "metadata": {},
   "source": [
    "### EXAMPLE 2: Password Strength Checker\n"
   ]
  },
  {
   "cell_type": "code",
   "execution_count": 11,
   "id": "c74e1b98",
   "metadata": {},
   "outputs": [
    {
     "data": {
      "text/plain": [
       "False"
      ]
     },
     "execution_count": 11,
     "metadata": {},
     "output_type": "execute_result"
    }
   ],
   "source": [
    "def is_strong_password(password):\n",
    "    if len(password)<8:\n",
    "        return False\n",
    "    if not any(char.isdigit() for char in password):\n",
    "        return False\n",
    "    if not any(char.islower() for char in password):\n",
    "        return False\n",
    "    if not any(char.isupper() for char in password):\n",
    "        return False\n",
    "    if not any(char in '!@#$%^&*' for char in password):\n",
    "        return False\n",
    "    return True\n",
    "\n",
    "result=is_strong_password(\"Savi8402*\")\n",
    "result\n",
    "result=is_strong_password(\"savi8402*\")\n",
    "result"
   ]
  },
  {
   "cell_type": "markdown",
   "id": "04755a15",
   "metadata": {},
   "source": [
    "### EXAMPLE 3: Calculate the total cost of item in shopping cart\n"
   ]
  },
  {
   "cell_type": "code",
   "execution_count": 35,
   "id": "aacad01f",
   "metadata": {},
   "outputs": [
    {
     "name": "stdout",
     "output_type": "stream",
     "text": [
      "{'name': 'apple', 'quantity': 1, 'price': 20} 20\n",
      "{'name': 'banana', 'quantity': 2, 'price': 30} 80\n",
      "{'name': 'pear', 'quantity': 5, 'price': 10} 130\n",
      "130\n"
     ]
    }
   ],
   "source": [
    "def calculate_total_cost(cart):\n",
    "    total_cost=0\n",
    "    for item in cart:\n",
    "        total_cost+=item['price']*item['quantity']\n",
    "        print(item,total_cost)\n",
    "    return total_cost        \n",
    "    \n",
    "\n",
    "\n",
    "cart=[\n",
    "    {\"name\":\"apple\",\"quantity\":1,\"price\":20},\n",
    "    {\"name\":\"banana\",\"quantity\":2,\"price\":30},\n",
    "    {\"name\":\"pear\",\"quantity\":5,\"price\":10},\n",
    "]\n",
    "print(calculate_total_cost(cart))\n",
    "    "
   ]
  },
  {
   "cell_type": "code",
   "execution_count": 22,
   "id": "6861efba",
   "metadata": {},
   "outputs": [
    {
     "data": {
      "text/plain": [
       "'apple'"
      ]
     },
     "execution_count": 22,
     "metadata": {},
     "output_type": "execute_result"
    }
   ],
   "source": [
    "cart[0][\"name\"]"
   ]
  },
  {
   "cell_type": "markdown",
   "id": "980f564c",
   "metadata": {},
   "source": [
    "### EXAMPLE 4: Check if string is palindrome"
   ]
  },
  {
   "cell_type": "code",
   "execution_count": 42,
   "id": "6b40f5e2",
   "metadata": {},
   "outputs": [
    {
     "name": "stdout",
     "output_type": "stream",
     "text": [
      "True\n"
     ]
    }
   ],
   "source": [
    "def is_palindrome(word):\n",
    "    word_reverse=word[::-1].lower()\n",
    "    word=word.lower()\n",
    "    if word==word_reverse:\n",
    "        return True\n",
    "    return False\n",
    "\n",
    "print(is_palindrome(\"Naman\"))"
   ]
  },
  {
   "cell_type": "markdown",
   "id": "99b2851d",
   "metadata": {},
   "source": [
    "### EXAMPLE 5: Calculate the factorial of a number using recursion"
   ]
  },
  {
   "cell_type": "code",
   "execution_count": 49,
   "id": "acfcc090",
   "metadata": {},
   "outputs": [
    {
     "name": "stdout",
     "output_type": "stream",
     "text": [
      "120\n"
     ]
    }
   ],
   "source": [
    "def factorial(num):\n",
    "    if num==0:\n",
    "        return 1\n",
    "    return num*factorial(num-1)\n",
    "\n",
    "print(factorial(5))\n",
    "    "
   ]
  },
  {
   "cell_type": "markdown",
   "id": "5eaa7798",
   "metadata": {},
   "source": [
    "### EXAMPLE 6: A function to read a file and count the frequency of each word"
   ]
  },
  {
   "cell_type": "code",
   "execution_count": 53,
   "id": "9155920f",
   "metadata": {},
   "outputs": [
    {
     "name": "stdout",
     "output_type": "stream",
     "text": [
      "{'wordnet': 3, 'lemmatizer': 1, 'lemmatization': 3, 'technique': 1, 'is': 4, 'like': 1, 'stemming.the': 1, 'output': 2, 'will': 1, 'get': 1, 'after': 1, 'called': 1, \"lemma',which\": 1, 'a': 5, 'root': 2, 'word': 2, 'rather': 1, 'than': 1, 'stem,the': 1, 'of': 1, 'stemming.after': 1, 'we': 1, 'wll': 1, 'be': 1, 'getting': 1, 'valid': 1, 'that': 1, 'means': 1, 'the': 3, 'same': 1, 'thing': 1, 'nltk': 1, 'provides': 1, 'wordnetlemmatizer': 1, 'class': 3, 'which': 1, 'thin': 1, 'wrapper': 1, 'around': 1, 'corpus.this': 1, 'uses': 1, 'morphy()': 1, 'function': 1, 'to': 2, 'corpusreader': 1, 'find': 1, 'lemma.let': 1, 'see': 1, 'with': 1, 'few': 1, 'examples': 1}\n"
     ]
    }
   ],
   "source": [
    "def count_word_frequency(file_path):\n",
    "    word_count = {}\n",
    "    with open(file_path, 'r') as file:\n",
    "        for line in file:\n",
    "            words = line.split()\n",
    "            for word in words:\n",
    "                word = word.lower().strip('.,!?:\"\\'')\n",
    "                word_count[word] = word_count.get(word, 0) + 1\n",
    "    return word_count\n",
    "\n",
    "file_path = r\"C:\\Users\\susha\\Desktop\\UDEMY\\Complete_GENAI_COURSE\\GenAI_Course_Langchain\\python_data_structures\\sample.txt\"\n",
    "print(count_word_frequency(file_path))\n"
   ]
  }
 ],
 "metadata": {
  "kernelspec": {
   "display_name": "venv",
   "language": "python",
   "name": "python3"
  },
  "language_info": {
   "codemirror_mode": {
    "name": "ipython",
    "version": 3
   },
   "file_extension": ".py",
   "mimetype": "text/x-python",
   "name": "python",
   "nbconvert_exporter": "python",
   "pygments_lexer": "ipython3",
   "version": "3.11.0"
  }
 },
 "nbformat": 4,
 "nbformat_minor": 5
}
