{
 "cells": [
  {
   "cell_type": "markdown",
   "id": "a78372a7",
   "metadata": {},
   "source": [
    "# Dictionary\n",
    "\n",
    "Dictionaries are unordered collection of items.They store data in key-value pairs.Key must be unique and immutable while values can be of any type"
   ]
  },
  {
   "cell_type": "code",
   "execution_count": 1,
   "id": "3ab4fa0e",
   "metadata": {},
   "outputs": [
    {
     "name": "stdout",
     "output_type": "stream",
     "text": [
      "<class 'dict'>\n"
     ]
    }
   ],
   "source": [
    "empty_dict={}\n",
    "print(type(empty_dict))"
   ]
  },
  {
   "cell_type": "code",
   "execution_count": 2,
   "id": "7daf8e3b",
   "metadata": {},
   "outputs": [
    {
     "data": {
      "text/plain": [
       "{'name': ['sushant', 'sahil', 'akaspreet'], 'age': [10, 12, 14]}"
      ]
     },
     "execution_count": 2,
     "metadata": {},
     "output_type": "execute_result"
    }
   ],
   "source": [
    "student={\n",
    "    \"name\":[\"sushant\",\"sahil\",\"akaspreet\"],\n",
    "    \"age\":[10,12,14]\n",
    "}\n",
    "student"
   ]
  },
  {
   "cell_type": "code",
   "execution_count": 3,
   "id": "94198623",
   "metadata": {},
   "outputs": [],
   "source": [
    "student={\"name\":\"sushant\",\"age\":23,\"name\":45}"
   ]
  },
  {
   "cell_type": "code",
   "execution_count": 4,
   "id": "04976e6c",
   "metadata": {},
   "outputs": [
    {
     "name": "stdout",
     "output_type": "stream",
     "text": [
      "{'name': 45, 'age': 23}\n"
     ]
    }
   ],
   "source": [
    "print(student)"
   ]
  },
  {
   "cell_type": "code",
   "execution_count": 9,
   "id": "fbc07541",
   "metadata": {},
   "outputs": [
    {
     "name": "stdout",
     "output_type": "stream",
     "text": [
      "45\n"
     ]
    }
   ],
   "source": [
    "#accessing dictionary elements\n",
    "print(student[\"name\"])"
   ]
  },
  {
   "cell_type": "code",
   "execution_count": 10,
   "id": "c1fc522b",
   "metadata": {},
   "outputs": [
    {
     "name": "stdout",
     "output_type": "stream",
     "text": [
      "23\n"
     ]
    }
   ],
   "source": [
    "print(student.get(\"age\"))"
   ]
  },
  {
   "cell_type": "code",
   "execution_count": 13,
   "id": "572c16a5",
   "metadata": {},
   "outputs": [
    {
     "name": "stdout",
     "output_type": "stream",
     "text": [
      "{'name': 45, 'age': 99}\n"
     ]
    }
   ],
   "source": [
    "#modifying dictionary elements\n",
    "#dictionary are mutable so you can add delete update\n",
    "\n",
    "student[\"age\"]=99\n",
    "print(student)"
   ]
  },
  {
   "cell_type": "code",
   "execution_count": 15,
   "id": "aa531ef1",
   "metadata": {},
   "outputs": [
    {
     "name": "stdout",
     "output_type": "stream",
     "text": [
      "{'name': 45, 'age': 99, 'address': 'Gurgaon'}\n"
     ]
    }
   ],
   "source": [
    "student[\"address\"]=\"Gurgaon\"\n",
    "print(student)"
   ]
  },
  {
   "cell_type": "code",
   "execution_count": 16,
   "id": "31ace30c",
   "metadata": {},
   "outputs": [
    {
     "name": "stdout",
     "output_type": "stream",
     "text": [
      "{'name': 45, 'age': 99}\n"
     ]
    }
   ],
   "source": [
    "del student[\"address\"]\n",
    "print(student)"
   ]
  },
  {
   "cell_type": "code",
   "execution_count": 18,
   "id": "af3b64f5",
   "metadata": {},
   "outputs": [
    {
     "name": "stdout",
     "output_type": "stream",
     "text": [
      "dict_keys(['name', 'age'])\n",
      "dict_values([45, 99])\n",
      "dict_items([('name', 45), ('age', 99)])\n"
     ]
    }
   ],
   "source": [
    "##dictionary methods\n",
    "keys=student.keys()\n",
    "print(keys)\n",
    "values=student.values()\n",
    "print(values)\n",
    "\n",
    "\n",
    "items=student.items()\n",
    "print(items)"
   ]
  },
  {
   "cell_type": "code",
   "execution_count": 19,
   "id": "edecc01a",
   "metadata": {},
   "outputs": [
    {
     "name": "stdout",
     "output_type": "stream",
     "text": [
      "{'name': 45, 'age': 99}\n",
      "{'name': 45, 'age': 99}\n"
     ]
    }
   ],
   "source": [
    "# shallow copy\n",
    "student_copy=student\n",
    "print(student)\n",
    "print(student_copy)"
   ]
  },
  {
   "cell_type": "code",
   "execution_count": 20,
   "id": "7fa32e97",
   "metadata": {},
   "outputs": [
    {
     "name": "stdout",
     "output_type": "stream",
     "text": [
      "{'name': 'sushant', 'age': 99}\n",
      "{'name': 'sushant', 'age': 99}\n"
     ]
    }
   ],
   "source": [
    "student[\"name\"]=\"sushant\"\n",
    "print(student)\n",
    "print(student_copy)"
   ]
  },
  {
   "cell_type": "code",
   "execution_count": 21,
   "id": "57bd34b6",
   "metadata": {},
   "outputs": [
    {
     "name": "stdout",
     "output_type": "stream",
     "text": [
      "{'name': 'sushant', 'age': 99}\n",
      "{'name': 'sushant', 'age': 99}\n"
     ]
    }
   ],
   "source": [
    "student_copy1=student.copy()\n",
    "print(student_copy1)\n",
    "print(student_copy)"
   ]
  },
  {
   "cell_type": "code",
   "execution_count": 22,
   "id": "2c839585",
   "metadata": {},
   "outputs": [
    {
     "name": "stdout",
     "output_type": "stream",
     "text": [
      "{'name': 'vij', 'age': 99}\n",
      "{'name': 'sushant', 'age': 99}\n"
     ]
    }
   ],
   "source": [
    "student[\"name\"]=\"vij\"\n",
    "print(student)\n",
    "print(student_copy1)"
   ]
  },
  {
   "cell_type": "code",
   "execution_count": 34,
   "id": "3286ae0d",
   "metadata": {},
   "outputs": [
    {
     "name": "stdout",
     "output_type": "stream",
     "text": [
      "name vij\n",
      "name 99\n",
      "age vij\n",
      "age 99\n"
     ]
    }
   ],
   "source": [
    "#iterating over dictionaries\n",
    "\n",
    "for i in student.keys():\n",
    "    for j in student.values():\n",
    "        print(i,j)\n",
    "    "
   ]
  },
  {
   "cell_type": "code",
   "execution_count": 35,
   "id": "092b6b46",
   "metadata": {},
   "outputs": [
    {
     "name": "stdout",
     "output_type": "stream",
     "text": [
      "name vij\n",
      "age 99\n"
     ]
    }
   ],
   "source": [
    "for key,value in student.items():\n",
    "    print(key,value)"
   ]
  },
  {
   "cell_type": "code",
   "execution_count": 38,
   "id": "278ae41f",
   "metadata": {},
   "outputs": [
    {
     "name": "stdout",
     "output_type": "stream",
     "text": [
      "{'student1': {'name': 'sushant', 'age': 23}, 'student2': {'name': 'sahil', 'age': 24}}\n"
     ]
    }
   ],
   "source": [
    "#nested dictionary\n",
    "students={\n",
    "    \"student1\":{\n",
    "        \"name\":\"sushant\",\n",
    "        \"age\":23\n",
    "    },\n",
    "    \"student2\":{\n",
    "        \"name\":\"sahil\",\n",
    "        \"age\":24\n",
    "    }\n",
    "}\n",
    "print(students)"
   ]
  },
  {
   "cell_type": "code",
   "execution_count": 42,
   "id": "8ceffdfe",
   "metadata": {},
   "outputs": [
    {
     "name": "stdout",
     "output_type": "stream",
     "text": [
      "student1 {'name': 'sushant', 'age': 23}\n",
      "name sushant\n",
      "age 23\n",
      "student2 {'name': 'sahil', 'age': 24}\n",
      "name sahil\n",
      "age 24\n"
     ]
    }
   ],
   "source": [
    "for key,value in students.items():\n",
    "    print(key,value)\n",
    "    for i,j in value.items():\n",
    "        print(i,j)"
   ]
  },
  {
   "cell_type": "code",
   "execution_count": 43,
   "id": "476735d8",
   "metadata": {},
   "outputs": [
    {
     "name": "stdout",
     "output_type": "stream",
     "text": [
      "{0: 0, 1: 1, 2: 4, 3: 9, 4: 16}\n"
     ]
    }
   ],
   "source": [
    "#dictionary comprehension\n",
    "squares={x:x**2 for x in range(5)}\n",
    "print(squares)"
   ]
  },
  {
   "cell_type": "code",
   "execution_count": 61,
   "id": "8838c503",
   "metadata": {},
   "outputs": [
    {
     "name": "stdout",
     "output_type": "stream",
     "text": [
      "{1: 1, 2: 2, 3: 3, 4: 4}\n"
     ]
    }
   ],
   "source": [
    "numbers=[1,2,2,3,3,3,4,4,4,4]\n",
    "frequency={}\n",
    "count=1\n",
    "for i in numbers:\n",
    "    if i in frequency:\n",
    "        frequency[i]+=1\n",
    "    else:\n",
    "        frequency[i]=1\n",
    "print(frequency)\n",
    "        \n",
    "    \n",
    "    "
   ]
  },
  {
   "cell_type": "code",
   "execution_count": 62,
   "id": "c0de836d",
   "metadata": {},
   "outputs": [
    {
     "data": {
      "text/plain": [
       "{'a': 1, 'b': 3, 'c': 4}"
      ]
     },
     "execution_count": 62,
     "metadata": {},
     "output_type": "execute_result"
    }
   ],
   "source": [
    "# merge two dictionaries\n",
    "\n",
    "dict1={\"a\":1,\"b\":2}\n",
    "dict2={\"b\":3,\"c\":4}\n",
    "\n",
    "merged_dict={**dict1,**dict2}\n",
    "merged_dict"
   ]
  },
  {
   "cell_type": "code",
   "execution_count": null,
   "id": "fff1558c",
   "metadata": {},
   "outputs": [],
   "source": []
  }
 ],
 "metadata": {
  "kernelspec": {
   "display_name": "venv",
   "language": "python",
   "name": "python3"
  },
  "language_info": {
   "codemirror_mode": {
    "name": "ipython",
    "version": 3
   },
   "file_extension": ".py",
   "mimetype": "text/x-python",
   "name": "python",
   "nbconvert_exporter": "python",
   "pygments_lexer": "ipython3",
   "version": "3.11.0"
  }
 },
 "nbformat": 4,
 "nbformat_minor": 5
}
