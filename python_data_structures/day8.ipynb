{
 "cells": [
  {
   "cell_type": "markdown",
   "id": "a09de3b7",
   "metadata": {},
   "source": [
    "## Lambda Function\n",
    "\n",
    "Lambda function are small anonymous functions defined using the lambda keyword.theycan have any number of arguments but only one expression.They are commonly used for short operations or as arguments to higher order functions"
   ]
  },
  {
   "cell_type": "code",
   "execution_count": 1,
   "id": "65934889",
   "metadata": {},
   "outputs": [
    {
     "name": "stdout",
     "output_type": "stream",
     "text": [
      "11\n"
     ]
    }
   ],
   "source": [
    "addition=lambda a,b:a+b\n",
    "print(addition(5,6))"
   ]
  },
  {
   "cell_type": "code",
   "execution_count": 3,
   "id": "85d7095f",
   "metadata": {},
   "outputs": [
    {
     "name": "stdout",
     "output_type": "stream",
     "text": [
      "True\n"
     ]
    }
   ],
   "source": [
    "number=lambda n:n%2==0\n",
    "print(number(12))"
   ]
  },
  {
   "cell_type": "code",
   "execution_count": 5,
   "id": "7b25bb58",
   "metadata": {},
   "outputs": [
    {
     "name": "stdout",
     "output_type": "stream",
     "text": [
      "6\n"
     ]
    }
   ],
   "source": [
    "addition= lambda x,y,z:x+y+z\n",
    "print(addition(1,2,3))"
   ]
  },
  {
   "cell_type": "code",
   "execution_count": 8,
   "id": "87483560",
   "metadata": {},
   "outputs": [
    {
     "data": {
      "text/plain": [
       "[1, 4, 9, 16, 25, 36]"
      ]
     },
     "execution_count": 8,
     "metadata": {},
     "output_type": "execute_result"
    }
   ],
   "source": [
    "numbers=[1,2,3,4,5,6]\n",
    "\n",
    "list(map(lambda x:x**2,numbers))   "
   ]
  },
  {
   "cell_type": "markdown",
   "id": "87994f93",
   "metadata": {},
   "source": [
    "### The map() function in python\n",
    "\n",
    "The map() function applies a given function to all items in an input list (or any other iterable) and returns a map object(an iterator). this is particularly useful ofr transformiing data in a list comprehensively"
   ]
  },
  {
   "cell_type": "code",
   "execution_count": 10,
   "id": "8ef936cf",
   "metadata": {},
   "outputs": [
    {
     "data": {
      "text/plain": [
       "[5, 7, 9]"
      ]
     },
     "execution_count": 10,
     "metadata": {},
     "output_type": "execute_result"
    }
   ],
   "source": [
    "numbers1=[1,2,3]\n",
    "numbers2=[4,5,6]\n",
    "\n",
    "added_numbers=list(map(lambda a,b:a+b,numbers1,numbers2))\n",
    "added_numbers\n",
    "\n"
   ]
  },
  {
   "cell_type": "markdown",
   "id": "47d60ddf",
   "metadata": {},
   "source": [
    "### The filter() function in python\n",
    "\n",
    "The filter() function constructs an iterator from elements of an iterable for which a function returns true.it is used to filter out items from a list(or any other iterable based on a condition)"
   ]
  },
  {
   "cell_type": "code",
   "execution_count": 14,
   "id": "b149100e",
   "metadata": {},
   "outputs": [
    {
     "data": {
      "text/plain": [
       "[2, 4, 6, 8]"
      ]
     },
     "execution_count": 14,
     "metadata": {},
     "output_type": "execute_result"
    }
   ],
   "source": [
    "lst=[1,2,3,4,5,6,7,8,9]\n",
    "\n",
    "even=list(filter(lambda a:a%2==0,lst))\n",
    "even"
   ]
  },
  {
   "cell_type": "code",
   "execution_count": 15,
   "id": "29a57447",
   "metadata": {},
   "outputs": [
    {
     "data": {
      "text/plain": [
       "[6, 8]"
      ]
     },
     "execution_count": 15,
     "metadata": {},
     "output_type": "execute_result"
    }
   ],
   "source": [
    "num=list(filter(lambda a:a%2==0 and a>5,lst))\n",
    "num"
   ]
  },
  {
   "cell_type": "code",
   "execution_count": 18,
   "id": "037e01e8",
   "metadata": {},
   "outputs": [
    {
     "name": "stdout",
     "output_type": "stream",
     "text": [
      "[{'name': 'krish', 'age': 27}, {'name': 'sahil', 'age': 30}]\n"
     ]
    }
   ],
   "source": [
    "people = [\n",
    "    {\"name\": \"krish\", \"age\": 27},\n",
    "    {\"name\": \"sushant\", \"age\": 23},\n",
    "    {\"name\": \"sahil\", \"age\": 30},\n",
    "]\n",
    "\n",
    "age = filter(lambda person: person[\"age\"] > 25, people)\n",
    "print(list(age))\n"
   ]
  },
  {
   "cell_type": "code",
   "execution_count": null,
   "id": "169e19b1",
   "metadata": {},
   "outputs": [],
   "source": []
  }
 ],
 "metadata": {
  "kernelspec": {
   "display_name": "venv",
   "language": "python",
   "name": "python3"
  },
  "language_info": {
   "codemirror_mode": {
    "name": "ipython",
    "version": 3
   },
   "file_extension": ".py",
   "mimetype": "text/x-python",
   "name": "python",
   "nbconvert_exporter": "python",
   "pygments_lexer": "ipython3",
   "version": "3.11.0"
  }
 },
 "nbformat": 4,
 "nbformat_minor": 5
}
