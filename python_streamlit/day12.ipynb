{
 "cells": [
  {
   "cell_type": "markdown",
   "id": "03b7f0c9",
   "metadata": {},
   "source": [
    "### Introduction to streamlit\n",
    "\n",
    "Streamlit is an open source app framework for machine learning and data science projects.It allows you to create beautiful web applications for your machine learning and data science projects with simple python scripts"
   ]
  }
 ],
 "metadata": {
  "kernelspec": {
   "display_name": "venv",
   "language": "python",
   "name": "python3"
  },
  "language_info": {
   "codemirror_mode": {
    "name": "ipython",
    "version": 3
   },
   "file_extension": ".py",
   "mimetype": "text/x-python",
   "name": "python",
   "nbconvert_exporter": "python",
   "pygments_lexer": "ipython3",
   "version": "3.11.0"
  }
 },
 "nbformat": 4,
 "nbformat_minor": 5
}
