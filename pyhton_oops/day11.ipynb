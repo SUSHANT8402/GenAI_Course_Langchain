{
 "cells": [
  {
   "cell_type": "markdown",
   "id": "7f88af91",
   "metadata": {},
   "source": [
    "## Encapsulation and Abstraction\n",
    "\n",
    "Encapsulation and abstraction are two fundamental priciples of OOPS that help in designing robust,maintainable and reusable code.Encapsulation involves bundling data and methods that operate on the data within a single unit,while abstraction involves hiding complex implementation details and exposing only the necessary features"
   ]
  },
  {
   "cell_type": "markdown",
   "id": "a0376f7e",
   "metadata": {},
   "source": [
    "### Encapsulation\n",
    "\n",
    "Encapsulation is the concept of wrapping data(variables) and methods(functions) together as a single unit.It restricts direct access to some of the object's components which is a means of preventing accidental interference and misuse of the data"
   ]
  },
  {
   "cell_type": "code",
   "execution_count": 4,
   "id": "76974bc4",
   "metadata": {},
   "outputs": [
    {
     "name": "stdout",
     "output_type": "stream",
     "text": [
      "Krish\n"
     ]
    }
   ],
   "source": [
    "### Encapsulation with getter and setter method\n",
    "\n",
    "### Public,Protected and private variables\n",
    "class Person:\n",
    "    def __init__(self,name,age):\n",
    "        self.name=name #public variables\n",
    "        self.age=age #public variables\n",
    "        \n",
    "def get_name(person):\n",
    "    return person.name\n",
    "    \n",
    "person=Person(\"Krish\",34)\n",
    "print(person.name)\n",
    "\n"
   ]
  },
  {
   "cell_type": "code",
   "execution_count": 6,
   "id": "d7b1b1c1",
   "metadata": {},
   "outputs": [
    {
     "data": {
      "text/plain": [
       "'Krish'"
      ]
     },
     "execution_count": 6,
     "metadata": {},
     "output_type": "execute_result"
    }
   ],
   "source": [
    "name=get_name(person)\n",
    "name"
   ]
  },
  {
   "cell_type": "code",
   "execution_count": null,
   "id": "e9a2c9e1",
   "metadata": {},
   "outputs": [],
   "source": [
    "#PRivate vARIABLES\n",
    "\n",
    "class Person:\n",
    "    def __init__(self,name,age):\n",
    "        self.__name=name \n",
    "        self.__age=age \n",
    "    def get_name(self):\n",
    "        return self.__name\n",
    "        \n",
    "        \n",
    "        \n",
    "person=Person(\"sushant\",23)"
   ]
  },
  {
   "cell_type": "code",
   "execution_count": 13,
   "id": "33f62cd4",
   "metadata": {},
   "outputs": [
    {
     "data": {
      "text/plain": [
       "'sushant'"
      ]
     },
     "execution_count": 13,
     "metadata": {},
     "output_type": "execute_result"
    }
   ],
   "source": [
    "person.get_name()"
   ]
  },
  {
   "cell_type": "code",
   "execution_count": 15,
   "id": "c5ed732e",
   "metadata": {},
   "outputs": [],
   "source": [
    "#PRotected VARIABLES\n",
    "\n",
    "class Person:\n",
    "    def __init__(self,name,age):\n",
    "        self._name=name \n",
    "        self._age=age \n",
    "\n",
    "class Employee(Person):\n",
    "    def __init__(self,name,age):\n",
    "        super().__init__(name,age)\n",
    "        \n",
    "emp=Employee(\"sushant\",34)"
   ]
  },
  {
   "cell_type": "code",
   "execution_count": 17,
   "id": "934e014f",
   "metadata": {},
   "outputs": [
    {
     "name": "stdout",
     "output_type": "stream",
     "text": [
      "sushant\n"
     ]
    }
   ],
   "source": [
    "print(emp._name)"
   ]
  },
  {
   "cell_type": "code",
   "execution_count": 18,
   "id": "ed133d10",
   "metadata": {},
   "outputs": [],
   "source": [
    "### encapsulation with getter and setter\n",
    "\n",
    "class Person:\n",
    "    def __init__(self,name,age):\n",
    "        self.__name=name \n",
    "        self.__age=age \n",
    "    def get_name(self):\n",
    "        return self.__name\n",
    "    def set_name(self,name):\n",
    "        self.__name=name"
   ]
  },
  {
   "cell_type": "code",
   "execution_count": 19,
   "id": "652cac4d",
   "metadata": {},
   "outputs": [],
   "source": [
    "person=Person(\"sus\",24)"
   ]
  },
  {
   "cell_type": "code",
   "execution_count": 20,
   "id": "d8c17779",
   "metadata": {},
   "outputs": [
    {
     "data": {
      "text/plain": [
       "'sus'"
      ]
     },
     "execution_count": 20,
     "metadata": {},
     "output_type": "execute_result"
    }
   ],
   "source": [
    "person.get_name()"
   ]
  },
  {
   "cell_type": "code",
   "execution_count": 21,
   "id": "97986ad4",
   "metadata": {},
   "outputs": [],
   "source": [
    "person.set_name(\"sahil\")"
   ]
  },
  {
   "cell_type": "code",
   "execution_count": 22,
   "id": "faee1c45",
   "metadata": {},
   "outputs": [
    {
     "data": {
      "text/plain": [
       "'sahil'"
      ]
     },
     "execution_count": 22,
     "metadata": {},
     "output_type": "execute_result"
    }
   ],
   "source": [
    "person.get_name()"
   ]
  },
  {
   "cell_type": "markdown",
   "id": "c67ee9f9",
   "metadata": {},
   "source": [
    "### Abstraction\n",
    "\n",
    "Abstraction is the concept of hiding the complex implementation details and showing only the necessary features of the object.This helps in reducing programming complexity and effort"
   ]
  },
  {
   "cell_type": "code",
   "execution_count": 25,
   "id": "930b823b",
   "metadata": {},
   "outputs": [
    {
     "name": "stdout",
     "output_type": "stream",
     "text": [
      "car engine started\n",
      "The vehicle is used for driving\n"
     ]
    }
   ],
   "source": [
    "from abc import ABC,abstractmethod #for the abstraction\n",
    "\n",
    "class Vehicle(ABC):\n",
    "    def drive(self):\n",
    "        print(\"The vehicle is used for driving\")\n",
    "    \n",
    "    @abstractmethod \n",
    "    #So this abstract method is just like giving you the necessary feature of an object.\n",
    "    #And it is just hiding the complex implementation detail.\n",
    "    def start_engine(self):\n",
    "        pass\n",
    "    \n",
    "class Car(Vehicle):\n",
    "    def start_engine(self):\n",
    "        print(\"car engine started\")\n",
    "    \n",
    "def operate_vehicle(vehicle):\n",
    "    vehicle.start_engine()\n",
    "    vehicle.drive()\n",
    "    \n",
    "    \n",
    "    \n",
    "car=Car()\n",
    "operate_vehicle(car)"
   ]
  },
  {
   "cell_type": "markdown",
   "id": "5f4ac40a",
   "metadata": {},
   "source": [
    "### Magic Methods\n",
    "\n",
    "Magic Methods in python also known as dunder method(double underscore methods) are special method that start and end with double underscores.These methods enables you to define the behaviour of objects for built in operations such as arithemetic operations,comparisions,and more\n",
    "\n",
    "\n",
    "#### Magic Methods\n",
    "\n",
    "Magic Methods are pre defined methods in python that you can override to change the behaviour of your objects.Some common magic methods include:\n",
    "- __init__: initializes a new instance of a class\n",
    "- __str__: returns a string representation of an object\n",
    "- __repr__: Retruns an official string representation of an object\n",
    "- __len__: Retruns the length of an object\n",
    "- __getitem__: Gets an item from a container\n",
    "- __setitem__: Sets an item in a container\n",
    "\n"
   ]
  },
  {
   "cell_type": "code",
   "execution_count": 26,
   "id": "3fe839bd",
   "metadata": {},
   "outputs": [
    {
     "data": {
      "text/plain": [
       "['__class__',\n",
       " '__delattr__',\n",
       " '__dict__',\n",
       " '__dir__',\n",
       " '__doc__',\n",
       " '__eq__',\n",
       " '__format__',\n",
       " '__ge__',\n",
       " '__getattribute__',\n",
       " '__getstate__',\n",
       " '__gt__',\n",
       " '__hash__',\n",
       " '__init__',\n",
       " '__init_subclass__',\n",
       " '__le__',\n",
       " '__lt__',\n",
       " '__module__',\n",
       " '__ne__',\n",
       " '__new__',\n",
       " '__reduce__',\n",
       " '__reduce_ex__',\n",
       " '__repr__',\n",
       " '__setattr__',\n",
       " '__sizeof__',\n",
       " '__str__',\n",
       " '__subclasshook__',\n",
       " '__weakref__']"
      ]
     },
     "execution_count": 26,
     "metadata": {},
     "output_type": "execute_result"
    }
   ],
   "source": [
    "class Person:\n",
    "    pass\n",
    "\n",
    "person=Person()\n",
    "dir(person)"
   ]
  },
  {
   "cell_type": "code",
   "execution_count": 27,
   "id": "21d0d20e",
   "metadata": {},
   "outputs": [
    {
     "name": "stdout",
     "output_type": "stream",
     "text": [
      "<__main__.Person object at 0x0000014349284990>\n"
     ]
    }
   ],
   "source": [
    "class Person:\n",
    "    def __init__(self,name,age):\n",
    "        self.name=name\n",
    "        self.age=age\n",
    "\n",
    "person=Person(\"sus\",24)\n",
    "print(person)"
   ]
  },
  {
   "cell_type": "code",
   "execution_count": 30,
   "id": "d7ec9981",
   "metadata": {},
   "outputs": [
    {
     "name": "stdout",
     "output_type": "stream",
     "text": [
      "sus,24 year old\n",
      "person(name=sus,age=24)\n"
     ]
    }
   ],
   "source": [
    "class Person:\n",
    "    def __init__(self,name,age):\n",
    "        self.name=name\n",
    "        self.age=age\n",
    "    def __str__(self):\n",
    "        return f\"{self.name},{self.age} year old\"\n",
    "    def __repr__(self):\n",
    "        return f\"person(name={self.name},age={self.age})\"\n",
    "        \n",
    "\n",
    "person=Person(\"sus\",24)\n",
    "print(person)\n",
    "print(repr(person))"
   ]
  },
  {
   "cell_type": "markdown",
   "id": "78386a84",
   "metadata": {},
   "source": [
    "### Operator Overloading\n",
    "\n",
    "operator overloading allows you to define the behaviour of operators(+,-,*,etc.) for custom objects.You achieve this by overloading specific magic methods in your class\n",
    "\n",
    "- __add__(self,other):Add 2 objects using + operator\n",
    "- __sub__(self,other): Subtracts 2 objects using - operator\n",
    "- __mul__(self,other): Multiplies 2 objects using the * operator\n",
    "- __truediv__(self,other): divides 2 objects using the / operator\n",
    "- __eq__(self,other): checks if 2 objects are equal using == operator\n",
    "- __lt__(self,other): checks if one object is less than another using the < operator\n",
    "- __gt__:  checks if one object is less than another using the > operator\n"
   ]
  },
  {
   "cell_type": "code",
   "execution_count": 37,
   "id": "86cc9ed2",
   "metadata": {},
   "outputs": [
    {
     "name": "stdout",
     "output_type": "stream",
     "text": [
      "Vector(6,8)\n",
      "Vector(-2,-2)\n",
      "Vector(8,15)\n"
     ]
    }
   ],
   "source": [
    "class Vector:\n",
    "    def __init__(self,x,y):\n",
    "        self.x=x\n",
    "        self.y=y\n",
    "        \n",
    "    def __add__(self,other):\n",
    "        return Vector(self.x+other.x,self.y+other.y)\n",
    "\n",
    "    def __sub__(self,other):\n",
    "        return Vector(self.x-other.x,self.y-other.y)\n",
    "\n",
    "    def __mul__(self,other):\n",
    "        return Vector(self.x*other.x,self.y*other.y)\n",
    "    \n",
    "    def __eq__(self,other):\n",
    "        return Vector(self.x==other.x,self.y==other.y)\n",
    "    \n",
    "    def __repr__(self):\n",
    "        return f\"Vector({self.x},{self.y})\"\n",
    "    \n",
    "v1=Vector(2,3)\n",
    "v2=Vector(4,5)\n",
    "\n",
    "print(v1+v2)\n",
    "print(v1-v2)\n",
    "print(v1*v2)\n",
    "\n",
    "\n"
   ]
  },
  {
   "cell_type": "code",
   "execution_count": 45,
   "id": "e096e0fc",
   "metadata": {},
   "outputs": [],
   "source": [
    "class ComplexNumber:\n",
    "    def __init__(self, x, y):\n",
    "        self.x = x  # real part\n",
    "        self.y = y  # imaginary part\n",
    "\n",
    "    def __add__(self, other):\n",
    "        return ComplexNumber(self.x + other.x, self.y + other.y)\n",
    "\n",
    "    def __sub__(self, other):\n",
    "        return ComplexNumber(self.x - other.x, self.y - other.y)\n",
    "\n",
    "    def __mul__(self, other):\n",
    "        real_part = self.x * other.x - self.y * other.y\n",
    "        imag_part = self.x * other.y + self.y * other.x\n",
    "        return ComplexNumber(real_part, imag_part)\n",
    "\n",
    "    def __truediv__(self, other):\n",
    "        denominator = other.x**2 + other.y**2\n",
    "        real_part = (self.x * other.x + self.y * other.y) / denominator\n",
    "        imag_part = (self.y * other.x - self.x * other.y) / denominator\n",
    "        return ComplexNumber(real_part, imag_part)\n",
    "\n",
    "    def __eq__(self, other):\n",
    "        return self.x == other.x and self.y == other.y\n",
    "\n",
    "    def __repr__(self):\n",
    "        return f\"ComplexNumber({self.x}, {self.y}i)\"\n"
   ]
  },
  {
   "cell_type": "code",
   "execution_count": 47,
   "id": "43863838",
   "metadata": {},
   "outputs": [
    {
     "name": "stdout",
     "output_type": "stream",
     "text": [
      "ComplexNumber(6, 8i)\n",
      "ComplexNumber(-2, -2i)\n",
      "ComplexNumber(-7, 22i)\n",
      "ComplexNumber(0.5609756097560976, 0.04878048780487805i)\n"
     ]
    }
   ],
   "source": [
    "v1=ComplexNumber(2,3)\n",
    "v2=ComplexNumber(4,5)\n",
    "\n",
    "print(v1+v2)\n",
    "print(v1-v2)\n",
    "print(v1*v2)\n",
    "print(v1/v2)\n"
   ]
  },
  {
   "cell_type": "code",
   "execution_count": null,
   "id": "03136dbf",
   "metadata": {},
   "outputs": [],
   "source": []
  }
 ],
 "metadata": {
  "kernelspec": {
   "display_name": "venv",
   "language": "python",
   "name": "python3"
  },
  "language_info": {
   "codemirror_mode": {
    "name": "ipython",
    "version": 3
   },
   "file_extension": ".py",
   "mimetype": "text/x-python",
   "name": "python",
   "nbconvert_exporter": "python",
   "pygments_lexer": "ipython3",
   "version": "3.11.0"
  }
 },
 "nbformat": 4,
 "nbformat_minor": 5
}
