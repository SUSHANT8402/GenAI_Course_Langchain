{
 "cells": [
  {
   "cell_type": "markdown",
   "id": "d7764ff1",
   "metadata": {},
   "source": [
    "# PYTHON OOPS\n",
    "\n",
    "### Classes and Objects\n",
    "\n",
    "OOPS is a programming paradigm that uses \"objects\" to design applications and computer programs.OOPS allows for modeling real world scenarios wsing classes and objects.This lesson covrs the basics of creating classes and objects,including instance variables and methods"
   ]
  },
  {
   "cell_type": "code",
   "execution_count": 4,
   "id": "8cad76c3",
   "metadata": {},
   "outputs": [
    {
     "name": "stdout",
     "output_type": "stream",
     "text": [
      "<class '__main__.Car'>\n"
     ]
    }
   ],
   "source": [
    "### A class is a blue print for creating objects.Attributes,methods\n",
    "\n",
    "class Car:\n",
    "    pass\n",
    "\n",
    "audi=Car()\n",
    "bmw=Car()\n",
    "\n",
    "print(type(audi))"
   ]
  },
  {
   "cell_type": "code",
   "execution_count": 5,
   "id": "075f6357",
   "metadata": {},
   "outputs": [
    {
     "name": "stdout",
     "output_type": "stream",
     "text": [
      "<__main__.Car object at 0x000001C86FB83D50>\n",
      "<__main__.Car object at 0x000001C86FB5DDD0>\n"
     ]
    }
   ],
   "source": [
    "print(audi)\n",
    "print(bmw)"
   ]
  },
  {
   "cell_type": "code",
   "execution_count": 6,
   "id": "0a7c4c6e",
   "metadata": {},
   "outputs": [
    {
     "name": "stdout",
     "output_type": "stream",
     "text": [
      "4\n"
     ]
    }
   ],
   "source": [
    "audi.windows=4\n",
    "print(audi.windows)"
   ]
  },
  {
   "cell_type": "code",
   "execution_count": 7,
   "id": "4ffd1324",
   "metadata": {},
   "outputs": [
    {
     "name": "stdout",
     "output_type": "stream",
     "text": [
      "<__main__.Dog object at 0x000001C86FBC9110>\n",
      "Buddy\n",
      "5\n"
     ]
    }
   ],
   "source": [
    "### instance variable and methods\n",
    "\n",
    "class Dog:\n",
    "    ##constructor\n",
    "    # self keyword will be responsible in probably accessing the instance variable inside the class itself whenever we create an object\n",
    "    def __init__(self,name,age):\n",
    "        self.name=name\n",
    "        self.age=age\n",
    "\n",
    "## create age\n",
    "dog1=Dog(\"Buddy\",5)\n",
    "print(dog1)\n",
    "print(dog1.name)\n",
    "print(dog1.age)\n",
    "\n",
    "        \n",
    "    \n",
    "    \n",
    "    "
   ]
  },
  {
   "cell_type": "code",
   "execution_count": 10,
   "id": "b6328847",
   "metadata": {},
   "outputs": [
    {
     "name": "stdout",
     "output_type": "stream",
     "text": [
      "snoopy says wofff\n"
     ]
    }
   ],
   "source": [
    "### Define a class with instance methods\n",
    "\n",
    "class Dog:\n",
    "    def __init__(self,name,age):\n",
    "        self.name=name\n",
    "        self.age=age\n",
    "    \n",
    "    def bark(self):\n",
    "        print(f\"{self.name} says wofff\")\n",
    "        \n",
    "dog1=Dog(\"snoopy\",5)\n",
    "dog1.bark()"
   ]
  },
  {
   "cell_type": "code",
   "execution_count": 27,
   "id": "9b558a36",
   "metadata": {},
   "outputs": [],
   "source": [
    "## modeling a bank account\n",
    "\n",
    "class Bank:\n",
    "    def __init__(self,owner,balance=0):\n",
    "        self.owner=owner\n",
    "        self.balance=balance\n",
    "        \n",
    "    def deposit(self,amount):\n",
    "        self.balance+=amount\n",
    "        print(f\"amount {amount} is added into account,New balance is {self.balance}\")\n",
    "    \n",
    "    def withdraw(self,amount):\n",
    "        if amount>self.balance:\n",
    "            print(\"insufficient balance to withdraw\")\n",
    "        else:\n",
    "            self.balance-=amount\n",
    "            print(f\"amount {amount} is deducted from your account,New balance is {self.balance}\")\n",
    "        \n",
    "    def get_balance(self):\n",
    "        print(f\"the current balance of account is {self.balance}\")\n",
    "        return self.balance\n",
    "        \n",
    "person1=Bank(\"sushant\",1000)\n",
    "\n",
    "        "
   ]
  },
  {
   "cell_type": "markdown",
   "id": "798f8063",
   "metadata": {},
   "source": [
    "### "
   ]
  },
  {
   "cell_type": "code",
   "execution_count": 28,
   "id": "3cfbcfff",
   "metadata": {},
   "outputs": [
    {
     "name": "stdout",
     "output_type": "stream",
     "text": [
      "amount 1000 is added into account,New balance is 2000\n"
     ]
    }
   ],
   "source": [
    "person1.deposit(1000)"
   ]
  },
  {
   "cell_type": "code",
   "execution_count": 29,
   "id": "a80ad50e",
   "metadata": {},
   "outputs": [
    {
     "name": "stdout",
     "output_type": "stream",
     "text": [
      "amount 2000 is deducted from your account,New balance is 0\n"
     ]
    }
   ],
   "source": [
    "person1.withdraw(2000)"
   ]
  },
  {
   "cell_type": "code",
   "execution_count": 30,
   "id": "e1a435b3",
   "metadata": {},
   "outputs": [
    {
     "name": "stdout",
     "output_type": "stream",
     "text": [
      "the current balance of account is 0\n"
     ]
    },
    {
     "data": {
      "text/plain": [
       "0"
      ]
     },
     "execution_count": 30,
     "metadata": {},
     "output_type": "execute_result"
    }
   ],
   "source": [
    "person1.get_balance()"
   ]
  },
  {
   "cell_type": "markdown",
   "id": "7cbae000",
   "metadata": {},
   "source": [
    "### Inheritance in Python\n",
    "\n",
    "Inheritance is a fundamental concept in oops that allow a class to inherit attributes and methods from another class."
   ]
  },
  {
   "cell_type": "code",
   "execution_count": 31,
   "id": "6bca3955",
   "metadata": {},
   "outputs": [],
   "source": [
    "## Inheritance \n",
    "### Parent Class\n",
    "\n",
    "class Car:\n",
    "    def __init__(self,window,doors,enginetype):\n",
    "        self.window=window\n",
    "        self.doors=doors\n",
    "        self.enginetype=enginetype\n",
    "    \n",
    "    def drive(self):\n",
    "        print(f\"the person will drive the {self.enginetype} car\")\n",
    "    \n"
   ]
  },
  {
   "cell_type": "code",
   "execution_count": 33,
   "id": "61bb85bb",
   "metadata": {},
   "outputs": [
    {
     "name": "stdout",
     "output_type": "stream",
     "text": [
      "the person will drive the petrol car\n"
     ]
    }
   ],
   "source": [
    "car1=Car(4,4,\"petrol\")\n",
    "car1.drive()"
   ]
  },
  {
   "cell_type": "code",
   "execution_count": 36,
   "id": "753bce14",
   "metadata": {},
   "outputs": [],
   "source": [
    "class Tesla(Car):\n",
    "    def __init__(self,windows,doors,enginetype,is_selfdriving):\n",
    "        super().__init__(windows,doors,enginetype)\n",
    "        self.is_selfdriving=is_selfdriving\n",
    "        \n",
    "    def selfdriving(self):\n",
    "        print(f\"tesla is a self driving : {self.is_selfdriving}\")\n",
    "\n",
    "              \n",
    "        \n",
    "        "
   ]
  },
  {
   "cell_type": "code",
   "execution_count": 37,
   "id": "cc2c96a4",
   "metadata": {},
   "outputs": [],
   "source": [
    "car2=Tesla(4,4,\"electric\",True)"
   ]
  },
  {
   "cell_type": "code",
   "execution_count": 40,
   "id": "83a0760a",
   "metadata": {},
   "outputs": [
    {
     "name": "stdout",
     "output_type": "stream",
     "text": [
      "tesla is a self driving : True\n"
     ]
    }
   ],
   "source": [
    "car2.selfdriving()"
   ]
  },
  {
   "cell_type": "code",
   "execution_count": 41,
   "id": "088450f7",
   "metadata": {},
   "outputs": [
    {
     "name": "stdout",
     "output_type": "stream",
     "text": [
      "the person will drive the electric car\n"
     ]
    }
   ],
   "source": [
    "car2.drive()"
   ]
  },
  {
   "cell_type": "code",
   "execution_count": null,
   "id": "8b9adeba",
   "metadata": {},
   "outputs": [],
   "source": [
    "## Multi Inheritance\n",
    "### when a class inherits from more than one base class\n",
    "\n",
    "#### BASE CLASS1\n",
    "class Animal:\n",
    "    def __init__(self,name):\n",
    "        self.name=name\n",
    "    \n",
    "    def speak(self):\n",
    "        print(\"subclass must inherit this function\")"
   ]
  },
  {
   "cell_type": "code",
   "execution_count": 43,
   "id": "02be780a",
   "metadata": {},
   "outputs": [],
   "source": [
    "#### BASE CLASS 2\n",
    "class Pet:\n",
    "    def __init__(self,owner):\n",
    "        self.owner=owner\n",
    "        \n",
    "    "
   ]
  },
  {
   "cell_type": "code",
   "execution_count": 48,
   "id": "8ec9e7c3",
   "metadata": {},
   "outputs": [],
   "source": [
    "class Dog(Animal,Pet):\n",
    "    def __init__(self,name,owner):\n",
    "        Animal.__init__(self,name)\n",
    "        Pet.__init__(self,owner)\n",
    "    def info(self):\n",
    "        print(f\"the {self.name} dog has {self.owner} as owner\")\n",
    "    "
   ]
  },
  {
   "cell_type": "code",
   "execution_count": 49,
   "id": "3bb74090",
   "metadata": {},
   "outputs": [
    {
     "name": "stdout",
     "output_type": "stream",
     "text": [
      "the snoopy dog has sushant as owner\n"
     ]
    }
   ],
   "source": [
    "dog1=Dog(\"snoopy\",\"sushant\")\n",
    "dog1.info()"
   ]
  },
  {
   "cell_type": "markdown",
   "id": "db4af583",
   "metadata": {},
   "source": [
    "### POLYMORPHISM\n",
    "\n",
    "Polymorphism is a core concept in OOPS that allows object of different classes to be treated as objects of a common superclass.It provides a way to perform a single action in different forms.Polymorphism is typically achieved through method overriding and interfaces"
   ]
  },
  {
   "cell_type": "markdown",
   "id": "e74db150",
   "metadata": {},
   "source": [
    "#### Method Overriding\n",
    "\n",
    "Method overriding allows a child to provide a specific implementation of a method that is already defined in its parent class\n"
   ]
  },
  {
   "cell_type": "code",
   "execution_count": 56,
   "id": "e23fb766",
   "metadata": {},
   "outputs": [],
   "source": [
    "## Bae class\n",
    "\n",
    "class Animal:\n",
    "    def speak(self):\n",
    "        return \"sound of animal\"\n",
    "\n",
    "#derived class 1\n",
    "class Dog(Animal):\n",
    "    def speak(self):\n",
    "        return \"woff!\"\n",
    "\n",
    "# derived class 2\n",
    "class Cat(Animal):\n",
    "    def speak(self):\n",
    "        return \"meowww\"    \n",
    "    \n",
    "###function that demonsatrate polymorphism\n",
    "\n",
    "def animal_speak(animal):\n",
    "    print(animal.speak())    \n",
    "        "
   ]
  },
  {
   "cell_type": "code",
   "execution_count": 52,
   "id": "3780f6f7",
   "metadata": {},
   "outputs": [
    {
     "data": {
      "text/plain": [
       "'woff!'"
      ]
     },
     "execution_count": 52,
     "metadata": {},
     "output_type": "execute_result"
    }
   ],
   "source": [
    "dog1=Dog()\n",
    "dog1.speak()"
   ]
  },
  {
   "cell_type": "code",
   "execution_count": 54,
   "id": "75040fa7",
   "metadata": {},
   "outputs": [
    {
     "data": {
      "text/plain": [
       "'meowww'"
      ]
     },
     "execution_count": 54,
     "metadata": {},
     "output_type": "execute_result"
    }
   ],
   "source": [
    "cat1=Cat()\n",
    "cat1.speak()"
   ]
  },
  {
   "cell_type": "code",
   "execution_count": 58,
   "id": "d1a8ed54",
   "metadata": {},
   "outputs": [
    {
     "name": "stdout",
     "output_type": "stream",
     "text": [
      "woff!\n"
     ]
    }
   ],
   "source": [
    "animal_speak(dog1)"
   ]
  },
  {
   "cell_type": "code",
   "execution_count": 59,
   "id": "a1e4c391",
   "metadata": {},
   "outputs": [
    {
     "name": "stdout",
     "output_type": "stream",
     "text": [
      "meowww\n"
     ]
    }
   ],
   "source": [
    "animal_speak(cat1)"
   ]
  },
  {
   "cell_type": "code",
   "execution_count": 61,
   "id": "8e7d03cd",
   "metadata": {},
   "outputs": [
    {
     "name": "stdout",
     "output_type": "stream",
     "text": [
      "the area is 20\n",
      "None\n",
      "the area is 78.5\n",
      "None\n"
     ]
    }
   ],
   "source": [
    "### Polymorphism with functions and methods\n",
    "\n",
    "\n",
    "##base class\n",
    "class Shape:\n",
    "    def area(self):\n",
    "        return \"the area of the figure\"\n",
    "    \n",
    "    \n",
    "#derived class\n",
    "class Rectangle(Shape):\n",
    "    def __init__(self,width,height):\n",
    "        self.width=width\n",
    "        self.height=height\n",
    "    \n",
    "    def area(self):\n",
    "        return self.width*self.height\n",
    "        \n",
    "### derived class 2\n",
    "class Circle(Shape):\n",
    "    def __init__(self,radius):\n",
    "        self.radius=radius\n",
    "    \n",
    "    def area(self):\n",
    "        return 3.14*self.radius*self.radius\n",
    "        \n",
    "\n",
    "### function that demonstrate polymorphism\n",
    "\n",
    "def print_area(shape):\n",
    "    print(f\"the area is {shape.area()}\")\n",
    "    \n",
    "\n",
    "rectangle=Rectangle(4,5)\n",
    "circle=Circle(5)\n",
    "\n",
    "print(print_area(rectangle))\n",
    "print(print_area(circle))\n"
   ]
  },
  {
   "cell_type": "markdown",
   "id": "30882241",
   "metadata": {},
   "source": [
    "### Polymorphism with abstract base class\n",
    "\n",
    "Abstract base class(ABCs) are used to define common methods for a group of related objects.They can enforce that derived classes implement particular methods,prompting consistency across different implementation\n",
    "\n",
    "\n",
    "@abstract method is just like an empty method,but it is kind of common class\n",
    "\n",
    "\n"
   ]
  },
  {
   "cell_type": "code",
   "execution_count": 63,
   "id": "88b69409",
   "metadata": {},
   "outputs": [
    {
     "name": "stdout",
     "output_type": "stream",
     "text": [
      "car engine started\n"
     ]
    }
   ],
   "source": [
    "from abc import ABC,abstractmethod\n",
    "\n",
    "class Vehicle(ABC):\n",
    "    @abstractmethod\n",
    "    def start_engine(self):\n",
    "        pass\n",
    "    \n",
    "\n",
    "# derived class 1\n",
    "\n",
    "class Car(Vehicle):\n",
    "    def start_engine(self):\n",
    "        return \"car engine started\"\n",
    "    \n",
    "# derived class 2\n",
    "\n",
    "class Motorcycle(Vehicle):\n",
    "    def start_engine(self):\n",
    "        return \"motorcycle engine started\"\n",
    "        \n",
    "def start_vehicle(vehicle):\n",
    "    print(vehicle.start_engine())\n",
    "    \n",
    "\n",
    "# create objects of car and motorcycle\n",
    "\n",
    "car=Car()\n",
    "motorcycle=Motorcycle()\n",
    "\n",
    "\n",
    "start_vehicle(car)\n",
    "\n",
    "\n"
   ]
  },
  {
   "cell_type": "markdown",
   "id": "f0b60b3b",
   "metadata": {},
   "source": [
    "### Conclusion\n",
    "\n",
    "Polymorphism is a powerful feature of OOPS that allows for flexibility and integration in code design.It enables a single function to handle objects of different class,each with its own implementation of a method.By understanding and applying polymorphism you can create more extensible and maintainable object oriented programming"
   ]
  },
  {
   "cell_type": "code",
   "execution_count": null,
   "id": "56df3dff",
   "metadata": {},
   "outputs": [],
   "source": []
  }
 ],
 "metadata": {
  "kernelspec": {
   "display_name": "venv",
   "language": "python",
   "name": "python3"
  },
  "language_info": {
   "codemirror_mode": {
    "name": "ipython",
    "version": 3
   },
   "file_extension": ".py",
   "mimetype": "text/x-python",
   "name": "python",
   "nbconvert_exporter": "python",
   "pygments_lexer": "ipython3",
   "version": "3.11.0"
  }
 },
 "nbformat": 4,
 "nbformat_minor": 5
}
