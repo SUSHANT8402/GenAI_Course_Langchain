{
 "cells": [
  {
   "cell_type": "markdown",
   "metadata": {},
   "source": [
    "# DAY1-31/5/2025\n",
    "    "
   ]
  },
  {
   "cell_type": "code",
   "execution_count": 8,
   "metadata": {},
   "outputs": [
    {
     "name": "stdout",
     "output_type": "stream",
     "text": [
      "yeeeeee\n"
     ]
    }
   ],
   "source": [
    "age=1\n",
    "if age>30:\n",
    "    print(f\"age is {age}\")\n",
    "else:\n",
    "    print(\"yeeeeee\")"
   ]
  },
  {
   "cell_type": "code",
   "execution_count": null,
   "metadata": {},
   "outputs": [
    {
     "name": "stdout",
     "output_type": "stream",
     "text": [
      "age is: 23\n",
      "height: 5'10\n",
      "Name: SUSHANT\n",
      "is a student? no\n"
     ]
    }
   ],
   "source": [
    "a=100\n",
    "#declaring and assigning variable\n",
    "age=23\n",
    "height=\"5'10\"\n",
    "name=\"SUSHANT\"\n",
    "is_student=\"no\"\n",
    "\n",
    "\n",
    "\n",
    "print(\"age is:\",age)\n",
    "print(\"height:\",height)\n",
    "print(\"Name:\",name)\n",
    "print(\"is a student?\",is_student)\n"
   ]
  },
  {
   "cell_type": "code",
   "execution_count": 4,
   "metadata": {},
   "outputs": [
    {
     "name": "stdout",
     "output_type": "stream",
     "text": [
      "my full name is: Sushant vij\n"
     ]
    }
   ],
   "source": [
    "# naming conventions\n",
    "#variables names should be descriptive\n",
    "#they must start with a letter or an '_' and contains a letter,number,underscore\n",
    "\n",
    "first_name=\"Sushant\"\n",
    "last_name=\"vij\"\n",
    "print(\"my full name is:\",first_name,last_name )"
   ]
  },
  {
   "cell_type": "code",
   "execution_count": 5,
   "metadata": {},
   "outputs": [
    {
     "data": {
      "text/plain": [
       "str"
      ]
     },
     "execution_count": 5,
     "metadata": {},
     "output_type": "execute_result"
    }
   ],
   "source": [
    "type(first_name)"
   ]
  },
  {
   "cell_type": "code",
   "execution_count": 6,
   "metadata": {},
   "outputs": [
    {
     "name": "stdout",
     "output_type": "stream",
     "text": [
      "<class 'int'>\n",
      "<class 'float'>\n",
      "<class 'str'>\n",
      "<class 'bool'>\n"
     ]
    }
   ],
   "source": [
    "age=23\n",
    "height=5.11\n",
    "name=\"SUSHANT\"\n",
    "is_student=True\n",
    "\n",
    "\n",
    "\n",
    "print(type(age))\n",
    "print(type(height))\n",
    "print(type(name))\n",
    "print(type(is_student))"
   ]
  },
  {
   "cell_type": "code",
   "execution_count": 7,
   "metadata": {},
   "outputs": [
    {
     "data": {
      "text/plain": [
       "str"
      ]
     },
     "execution_count": 7,
     "metadata": {},
     "output_type": "execute_result"
    }
   ],
   "source": [
    "age_str=str(age)\n",
    "type(age_str)"
   ]
  },
  {
   "cell_type": "code",
   "execution_count": null,
   "metadata": {},
   "outputs": [
    {
     "name": "stdout",
     "output_type": "stream",
     "text": [
      "23\n",
      "<class 'int'>\n"
     ]
    }
   ],
   "source": [
    "age=int(input(\"type the age\"))\n",
    "print(age)\n",
    "print(type(age))"
   ]
  },
  {
   "cell_type": "code",
   "execution_count": 12,
   "metadata": {},
   "outputs": [
    {
     "name": "stdout",
     "output_type": "stream",
     "text": [
      "2999990000\n"
     ]
    }
   ],
   "source": [
    "#code for simple calculator\n",
    "\n",
    "num1=int(input(\"input the first number\"))\n",
    "num2=int(input(\"type the second number\"))\n",
    "maths=str(input(\"enter type of calculation (sum,sub,mul,div)\"))\n",
    "\n",
    "if maths==\"sum\":\n",
    "    print(num1+num2)\n",
    "elif maths==\"sub\":\n",
    "    print(num1-num2)\n",
    "elif maths==\"mul\":\n",
    "    print(num1*num2)\n",
    "else:\n",
    "    print(num1/num2)\n",
    "    \n",
    "    \n",
    "    "
   ]
  }
 ],
 "metadata": {
  "kernelspec": {
   "display_name": "venv",
   "language": "python",
   "name": "python3"
  },
  "language_info": {
   "codemirror_mode": {
    "name": "ipython",
    "version": 3
   },
   "file_extension": ".py",
   "mimetype": "text/x-python",
   "name": "python",
   "nbconvert_exporter": "python",
   "pygments_lexer": "ipython3",
   "version": "3.11.0"
  }
 },
 "nbformat": 4,
 "nbformat_minor": 2
}
